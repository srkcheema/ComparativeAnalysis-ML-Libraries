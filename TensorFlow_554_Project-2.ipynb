{
  "cells": [
    {
      "cell_type": "code",
      "execution_count": null,
      "metadata": {},
      "outputs": [],
      "source": [
        "import pandas as pd               # Import pandas library\n",
        "import numpy as np                # Import numpy library\n",
        "import matplotlib.pyplot as plt   # Import matplotlib library\n",
        "import tensorflow as tf           # Import tensorflow library\n",
        "from tensorflow import keras\n",
        "from tensorflow.keras.layers import Input, Dense, Activation,Dropout\n",
        "from tensorflow.keras.models import Model"
      ]
    },
    {
      "cell_type": "code",
      "execution_count": null,
      "metadata": {},
      "outputs": [],
      "source": [
        "mnist = tf.keras.datasets.mnist # Object of the MNIST dataset\n",
        "(x_train, y_train),(x_test, y_test) = mnist.load_data() # Load data"
      ]
    },
    {
      "cell_type": "code",
      "execution_count": null,
      "metadata": {},
      "outputs": [],
      "source": [
        "plt.imshow(x_train[0], cmap=\"gray\") # Import the image\n",
        "plt.show() # Plot the image"
      ]
    },
    {
      "cell_type": "code",
      "execution_count": null,
      "metadata": {},
      "outputs": [],
      "source": [
        "x_train = tf.keras.utils.normalize(x_train, axis=1) # Normalize the training dataset\n",
        "x_test = tf.keras.utils.normalize(x_test, axis=1) # Normalize the testing dataset"
      ]
    }
  ],
  "metadata": {
    "accelerator": "TPU",
    "colab": {
      "provenance": []
    },
    "gpuClass": "standard",
    "kernelspec": {
      "display_name": "Python 3",
      "name": "python3"
    },
    "language_info": {
      "name": "python"
    }
  },
  "nbformat": 4,
  "nbformat_minor": 0
}
