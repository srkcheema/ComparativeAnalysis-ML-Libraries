{
  "cells": [
    {
      "cell_type": "code",
      "execution_count": null,
      "metadata": {},
      "outputs": [],
      "source": [
        "import pandas as pd               # Import pandas library\n",
        "import numpy as np                # Import numpy library\n",
        "import matplotlib.pyplot as plt   # Import matplotlib library\n",
        "import tensorflow as tf           # Import tensorflow library\n",
        "from tensorflow import keras\n",
        "from tensorflow.keras.layers import Input, Dense, Activation,Dropout\n",
        "from tensorflow.keras.models import Model"
      ]
    },
    {
      "cell_type": "code",
      "execution_count": null,
      "metadata": {},
      "outputs": [],
      "source": [
        "mnist = tf.keras.datasets.mnist # Object of the MNIST dataset\n",
        "(x_train, y_train),(x_test, y_test) = mnist.load_data() # Load data"
      ]
    },
    {
      "cell_type": "code",
      "execution_count": null,
      "metadata": {},
      "outputs": [],
      "source": [
        "plt.imshow(x_train[0], cmap=\"gray\") # Import the image\n",
        "plt.show() # Plot the image"
      ]
    },
    {
      "cell_type": "code",
      "execution_count": null,
      "metadata": {},
      "outputs": [],
      "source": [
        "x_train = tf.keras.utils.normalize(x_train, axis=1) # Normalize the training dataset\n",
        "x_test = tf.keras.utils.normalize(x_test, axis=1) # Normalize the testing dataset"
      ]
    },
    {
      "cell_type": "code",
      "execution_count": null,
      "metadata": {},
      "outputs": [],
      "source": [
        "#Build the model object\n",
        "model = tf.keras.models.Sequential()\n",
        "# Add the Flatten Layer\n",
        "model.add(tf.keras.layers.Flatten())\n",
        "# Build the input and the hidden layers\n",
        "model.add(tf.keras.layers.Dense(128, activation=tf.nn.relu))\n",
        "model.add(tf.keras.layers.Dense(128, activation=tf.nn.relu))\n",
        "# Build the output layer\n",
        "model.add(tf.keras.layers.Dense(10, activation=tf.nn.softmax))"
      ]
    },
    {
      "cell_type": "code",
      "execution_count": null,
      "metadata": {},
      "outputs": [],
      "source": [
        "model.compile(optimizer=\"adam\", loss=\"sparse_categorical_crossentropy\", metrics=[\"accuracy\"])"
      ]
    },
    {
      "cell_type": "code",
      "execution_count": null,
      "metadata": {},
      "outputs": [],
      "source": [
        "max_epochs = 20\n",
        "\n",
        "import time\n",
        "time_list = []\n",
        "accuracy = []\n",
        "val_accuracy = []\n",
        "\n",
        "\n",
        "for epoch in range(1, max_epochs):\n",
        "  start = time.time()\n",
        "  history = model.fit(x=x_train, y=y_train, epochs=epoch, validation_data=(x_test, y_test))\n",
        "  end = time.time()\n",
        "  time_list.append(end-start)\n",
        "  accuracy.append( sum(history.history['accuracy']) / len(history.history['accuracy']) )\n",
        "  val_accuracy.append( sum(history.history['val_accuracy']) / len(history.history['val_accuracy']) )"
      ]
    },
    {
      "cell_type": "code",
      "execution_count": null,
      "metadata": {},
      "outputs": [],
      "source": [
        "#Plot Epochs vs Accuracy\n",
        "x = np.arange(1, max_epochs)\n",
        "plt.plot(x, accuracy, label='Training Accuracy')\n",
        "plt.plot(x, val_accuracy, label='Validation Accuracy')\n",
        "plt.xlabel('Epochs')\n",
        "plt.ylabel('Accuracy')\n",
        "plt.legend()\n",
        "plt.show()"
      ]
    },
    {
      "cell_type": "code",
      "execution_count": null,
      "metadata": {},
      "outputs": [],
      "source": [
        "#Plot Epochs vs Training Time\n",
        "plt.plot(x, time_list, label='Training Time')\n",
        "plt.xlabel('Epochs')\n",
        "plt.ylabel('Time')\n",
        "plt.legend()\n",
        "plt.show()"
      ]
    }
  ],
  "metadata": {
    "accelerator": "TPU",
    "colab": {
      "provenance": []
    },
    "gpuClass": "standard",
    "kernelspec": {
      "display_name": "Python 3",
      "name": "python3"
    },
    "language_info": {
      "name": "python"
    }
  },
  "nbformat": 4,
  "nbformat_minor": 0
}
